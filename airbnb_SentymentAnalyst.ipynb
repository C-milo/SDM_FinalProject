{
 "cells": [
  {
   "cell_type": "code",
   "execution_count": 1,
   "metadata": {},
   "outputs": [],
   "source": [
    "import csv\n",
    "from textblob import TextBlob\n",
    "import pandas as pd\n",
    "import numpy as np\n",
    "pd.set_option('display.max_rows', 500)\n",
    "df = pd.read_csv(\"airbnb_reviews.csv\")"
   ]
  },
  {
   "cell_type": "code",
   "execution_count": 2,
   "metadata": {},
   "outputs": [],
   "source": [
    "Polarity = []\n",
    "Sentiment = []\n",
    "for row in df['comments']:\n",
    "    feeds = TextBlob(row)\n",
    "    polarity = feeds.sentiment.polarity\n",
    "    if(feeds.sentiment.polarity > 0.5):\n",
    "        sentiment = \"Positve\"\n",
    "    elif(feeds.sentiment.polarity < 0.5):\n",
    "        sentiment = \"Negative\"\n",
    "    else:\n",
    "        sentiment = \"Neutral\"\n",
    "    \n",
    "    Polarity.append(polarity)\n",
    "    Sentiment.append(sentiment)\n",
    "    \n",
    "    #IDs.append(k)\n",
    "df['Polarity'] = Polarity\n",
    "df['Sentiment'] = Sentiment\n",
    "\n",
    "df.to_csv('airbnb_reviews_sentiment.csv',index=False, encoding = 'utf-8')"
   ]
  },
  {
   "cell_type": "code",
   "execution_count": null,
   "metadata": {},
   "outputs": [],
   "source": []
  }
 ],
 "metadata": {
  "kernelspec": {
   "display_name": "Python 3",
   "language": "python",
   "name": "python3"
  },
  "language_info": {
   "codemirror_mode": {
    "name": "ipython",
    "version": 3
   },
   "file_extension": ".py",
   "mimetype": "text/x-python",
   "name": "python",
   "nbconvert_exporter": "python",
   "pygments_lexer": "ipython3",
   "version": "3.6.9"
  }
 },
 "nbformat": 4,
 "nbformat_minor": 2
}
