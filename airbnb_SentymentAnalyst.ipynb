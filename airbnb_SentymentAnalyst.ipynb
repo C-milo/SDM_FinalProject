{
 "cells": [
  {
   "cell_type": "code",
   "execution_count": 2,
   "metadata": {},
   "outputs": [],
   "source": [
    "import csv\n",
    "from textblob import TextBlob\n",
    "import pandas as pd\n",
    "import numpy as np\n",
    "pd.set_option('display.max_rows', 500)\n",
    "#df = pd.read_csv(\"airbnb_reviews.csv\")"
   ]
  },
  {
   "cell_type": "code",
   "execution_count": null,
   "metadata": {},
   "outputs": [],
   "source": [
    "Polarity = []\n",
    "Sentiment = []\n",
    "# Categorizing sentiment\n",
    "for row in df['comments']:\n",
    "    feeds = TextBlob(row)\n",
    "    polarity = feeds.sentiment.polarity\n",
    "    if(feeds.sentiment.polarity > 0.5):\n",
    "        sentiment = \"Positve\"\n",
    "    elif(feeds.sentiment.polarity < 0.5):\n",
    "        sentiment = \"Negative\"\n",
    "    else:\n",
    "        sentiment = \"Neutral\"\n",
    "# Add data to list\n",
    "    Polarity.append(polarity)\n",
    "    Sentiment.append(sentiment)\n",
    "# Append data to DF\n",
    "df['Polarity'] = Polarity\n",
    "df['Sentiment'] = Sentiment\n",
    "# Export to csv\n",
    "df.to_csv('airbnb_reviews_sentiment.csv',index=False, encoding = 'utf-8')"
   ]
  },
  {
   "cell_type": "code",
   "execution_count": 2,
   "metadata": {
    "tags": []
   },
   "outputs": [
    {
     "output_type": "stream",
     "name": "stdout",
     "text": "Sentiment(polarity=-0.9375, subjectivity=0.75)\n"
    }
   ],
   "source": [
    "print(TextBlob(\"You will not be disappointed, go ahead and book!\").sentiment)"
   ]
  },
  {
   "cell_type": "code",
   "execution_count": 3,
   "metadata": {
    "tags": []
   },
   "outputs": [
    {
     "output_type": "stream",
     "name": "stdout",
     "text": "Sentiment(polarity=0.8375, subjectivity=0.825)\n"
    }
   ],
   "source": [
    "print(TextBlob(\"Great location, gorgeous apartment!\").sentiment)"
   ]
  },
  {
   "cell_type": "code",
   "execution_count": null,
   "metadata": {},
   "outputs": [],
   "source": []
  }
 ],
 "metadata": {
  "kernelspec": {
   "display_name": "Python 3",
   "language": "python",
   "name": "python3"
  },
  "language_info": {
   "codemirror_mode": {
    "name": "ipython",
    "version": 3
   },
   "file_extension": ".py",
   "mimetype": "text/x-python",
   "name": "python",
   "nbconvert_exporter": "python",
   "pygments_lexer": "ipython3",
   "version": "3.6.9"
  }
 },
 "nbformat": 4,
 "nbformat_minor": 2
}