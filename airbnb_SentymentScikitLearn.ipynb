{
 "metadata": {
  "language_info": {
   "codemirror_mode": {
    "name": "ipython",
    "version": 3
   },
   "file_extension": ".py",
   "mimetype": "text/x-python",
   "name": "python",
   "nbconvert_exporter": "python",
   "pygments_lexer": "ipython3",
   "version": "3.7.8-final"
  },
  "orig_nbformat": 2,
  "kernelspec": {
   "name": "python_defaultSpec_1600279980900",
   "display_name": "Python 3.7.8 32-bit"
  }
 },
 "nbformat": 4,
 "nbformat_minor": 2,
 "cells": [
  {
   "cell_type": "code",
   "execution_count": 8,
   "metadata": {},
   "outputs": [],
   "source": [
    "\n",
    "from joblib import dump, load # used for saving and loading sklearn objects\n",
    "from scipy.sparse import save_npz, load_npz # used for saving and loading sparse matrices\n",
    "from sklearn.feature_extraction.text import CountVectorizer, TfidfTransformer\n",
    "import pandas as pd\n",
    "from os import mkdir\n",
    "\n",
    "pd.set_option('display.max_rows', 500)\n",
    "reviews = pd.read_csv('airbnb_reviews.csv')\n",
    "\n",
    "try:\n",
    "    mkdir('data_preprocessors')\n",
    "    mkdir('vectorized_data')\n",
    "except:\n",
    "    pass"
   ]
  },
  {
   "cell_type": "code",
   "execution_count": 9,
   "metadata": {},
   "outputs": [
    {
     "output_type": "execute_result",
     "data": {
      "text/plain": "       id     author  rating  \\\n0  390395     Sergio       5   \n1  390395     Lauren       5   \n2  390395  Christina       5   \n3  390395     Hattie       5   \n4  390395     Daniel       5   \n\n                                            comments  \n0  Excellent host and great and clear comunicaciÃ...  \n1   Seanâ€™s place was fantastic. Highly recommend!!  \n2  Seanâ€™s place is very comfortable and cute. S...  \n3  Sean was a great host. Super friendly and acco...  \n4  Super cute bed room. The host answered all que...  ",
      "text/html": "<div>\n<style scoped>\n    .dataframe tbody tr th:only-of-type {\n        vertical-align: middle;\n    }\n\n    .dataframe tbody tr th {\n        vertical-align: top;\n    }\n\n    .dataframe thead th {\n        text-align: right;\n    }\n</style>\n<table border=\"1\" class=\"dataframe\">\n  <thead>\n    <tr style=\"text-align: right;\">\n      <th></th>\n      <th>id</th>\n      <th>author</th>\n      <th>rating</th>\n      <th>comments</th>\n    </tr>\n  </thead>\n  <tbody>\n    <tr>\n      <th>0</th>\n      <td>390395</td>\n      <td>Sergio</td>\n      <td>5</td>\n      <td>Excellent host and great and clear comunicaciÃ...</td>\n    </tr>\n    <tr>\n      <th>1</th>\n      <td>390395</td>\n      <td>Lauren</td>\n      <td>5</td>\n      <td>Seanâ€™s place was fantastic. Highly recommend!!</td>\n    </tr>\n    <tr>\n      <th>2</th>\n      <td>390395</td>\n      <td>Christina</td>\n      <td>5</td>\n      <td>Seanâ€™s place is very comfortable and cute. S...</td>\n    </tr>\n    <tr>\n      <th>3</th>\n      <td>390395</td>\n      <td>Hattie</td>\n      <td>5</td>\n      <td>Sean was a great host. Super friendly and acco...</td>\n    </tr>\n    <tr>\n      <th>4</th>\n      <td>390395</td>\n      <td>Daniel</td>\n      <td>5</td>\n      <td>Super cute bed room. The host answered all que...</td>\n    </tr>\n  </tbody>\n</table>\n</div>"
     },
     "metadata": {},
     "execution_count": 9
    }
   ],
   "source": [
    "reviews['id']"
   ]
  },
  {
   "cell_type": "code",
   "execution_count": null,
   "metadata": {},
   "outputs": [],
   "source": []
  }
 ]
}