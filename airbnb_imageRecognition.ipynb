{
 "cells": [
  {
   "cell_type": "code",
   "execution_count": 59,
   "metadata": {
    "scrolled": true
   },
   "outputs": [
    {
     "data": {
      "text/html": [
       "<div>\n",
       "<style scoped>\n",
       "    .dataframe tbody tr th:only-of-type {\n",
       "        vertical-align: middle;\n",
       "    }\n",
       "\n",
       "    .dataframe tbody tr th {\n",
       "        vertical-align: top;\n",
       "    }\n",
       "\n",
       "    .dataframe thead th {\n",
       "        text-align: right;\n",
       "    }\n",
       "</style>\n",
       "<table border=\"1\" class=\"dataframe\">\n",
       "  <thead>\n",
       "    <tr style=\"text-align: right;\">\n",
       "      <th></th>\n",
       "      <th>id</th>\n",
       "      <th>city</th>\n",
       "      <th>neighborhood</th>\n",
       "      <th>name</th>\n",
       "      <th>lat</th>\n",
       "      <th>lng</th>\n",
       "      <th>person_capacity</th>\n",
       "      <th>space_type</th>\n",
       "      <th>picture_url</th>\n",
       "      <th>price_rate</th>\n",
       "    </tr>\n",
       "  </thead>\n",
       "  <tbody>\n",
       "    <tr>\n",
       "      <td>0</td>\n",
       "      <td>28103946</td>\n",
       "      <td>Toronto</td>\n",
       "      <td>Downtown Toronto</td>\n",
       "      <td>Chic, Modern condo downtown by Scotiabank Arena!</td>\n",
       "      <td>43.64327</td>\n",
       "      <td>-79.38115</td>\n",
       "      <td>4</td>\n",
       "      <td>Entire condominium</td>\n",
       "      <td>https://a0.muscache.com/im/pictures/36fa807f-2...</td>\n",
       "      <td>38.0</td>\n",
       "    </tr>\n",
       "    <tr>\n",
       "      <td>1</td>\n",
       "      <td>11533218</td>\n",
       "      <td>Toronto</td>\n",
       "      <td>Downtown Toronto</td>\n",
       "      <td>Luxurious Condo near CN Tower with FREE PARKING</td>\n",
       "      <td>43.64252</td>\n",
       "      <td>-79.39617</td>\n",
       "      <td>4</td>\n",
       "      <td>Entire condominium</td>\n",
       "      <td>https://a0.muscache.com/im/pictures/a22f9757-3...</td>\n",
       "      <td>90.0</td>\n",
       "    </tr>\n",
       "    <tr>\n",
       "      <td>2</td>\n",
       "      <td>12290314</td>\n",
       "      <td>Toronto</td>\n",
       "      <td>Downtown Toronto</td>\n",
       "      <td>Take in Panoramic City Views from a Sophistica...</td>\n",
       "      <td>43.65391</td>\n",
       "      <td>-79.38273</td>\n",
       "      <td>2</td>\n",
       "      <td>Entire condominium</td>\n",
       "      <td>https://a0.muscache.com/4ea/air/v2/pictures/f3...</td>\n",
       "      <td>113.0</td>\n",
       "    </tr>\n",
       "    <tr>\n",
       "      <td>3</td>\n",
       "      <td>18254263</td>\n",
       "      <td>Toronto</td>\n",
       "      <td>Downtown Toronto</td>\n",
       "      <td>*City View Studio 3 mins to University and Sub...</td>\n",
       "      <td>43.66192</td>\n",
       "      <td>-79.38503</td>\n",
       "      <td>3</td>\n",
       "      <td>Entire condominium</td>\n",
       "      <td>https://a0.muscache.com/im/pictures/0f1e2974-0...</td>\n",
       "      <td>75.0</td>\n",
       "    </tr>\n",
       "    <tr>\n",
       "      <td>4</td>\n",
       "      <td>15239234</td>\n",
       "      <td>Toronto</td>\n",
       "      <td>Downtown Toronto</td>\n",
       "      <td>Designer penthouse loft w sunset balcony (King W)</td>\n",
       "      <td>43.64628</td>\n",
       "      <td>-79.40063</td>\n",
       "      <td>2</td>\n",
       "      <td>Entire apartment</td>\n",
       "      <td>https://a0.muscache.com/im/pictures/09e2524d-e...</td>\n",
       "      <td>72.0</td>\n",
       "    </tr>\n",
       "  </tbody>\n",
       "</table>\n",
       "</div>"
      ],
      "text/plain": [
       "         id     city      neighborhood  \\\n",
       "0  28103946  Toronto  Downtown Toronto   \n",
       "1  11533218  Toronto  Downtown Toronto   \n",
       "2  12290314  Toronto  Downtown Toronto   \n",
       "3  18254263  Toronto  Downtown Toronto   \n",
       "4  15239234  Toronto  Downtown Toronto   \n",
       "\n",
       "                                                name       lat       lng  \\\n",
       "0   Chic, Modern condo downtown by Scotiabank Arena!  43.64327 -79.38115   \n",
       "1    Luxurious Condo near CN Tower with FREE PARKING  43.64252 -79.39617   \n",
       "2  Take in Panoramic City Views from a Sophistica...  43.65391 -79.38273   \n",
       "3  *City View Studio 3 mins to University and Sub...  43.66192 -79.38503   \n",
       "4  Designer penthouse loft w sunset balcony (King W)  43.64628 -79.40063   \n",
       "\n",
       "   person_capacity          space_type  \\\n",
       "0                4  Entire condominium   \n",
       "1                4  Entire condominium   \n",
       "2                2  Entire condominium   \n",
       "3                3  Entire condominium   \n",
       "4                2    Entire apartment   \n",
       "\n",
       "                                         picture_url  price_rate  \n",
       "0  https://a0.muscache.com/im/pictures/36fa807f-2...        38.0  \n",
       "1  https://a0.muscache.com/im/pictures/a22f9757-3...        90.0  \n",
       "2  https://a0.muscache.com/4ea/air/v2/pictures/f3...       113.0  \n",
       "3  https://a0.muscache.com/im/pictures/0f1e2974-0...        75.0  \n",
       "4  https://a0.muscache.com/im/pictures/09e2524d-e...        72.0  "
      ]
     },
     "execution_count": 59,
     "metadata": {},
     "output_type": "execute_result"
    }
   ],
   "source": [
    "import requests\n",
    "import pandas as pd\n",
    "import json\n",
    "\n",
    "\n",
    "#subscription key and endpoint\n",
    "subscription_key = ''\n",
    "endpoint = 'https://sdm-airbnb-images.cognitiveservices.azure.com/'\n",
    "analyze_url = endpoint + \"vision/v2.1/analyze\"\n",
    "\n",
    "headers = {'Ocp-Apim-Subscription-Key': subscription_key}\n",
    "params = {'visualFeatures': 'Categories,Description,Color'}\n",
    "\n",
    "airbnb_df = pd.read_csv(\"airbnb_listing.csv\")\n",
    "airbnb_df.head(5)"
   ]
  },
  {
   "cell_type": "code",
   "execution_count": 60,
   "metadata": {},
   "outputs": [],
   "source": [
    "# data = {'url': 'https://a0.muscache.com/im/pictures/67002727-38d2-4be7-aa2d-3beabc29df91.jpg?aki_policy=large'}\n",
    "\n",
    "# response = requests.post(analyze_url, headers=headers, params=params, json=data)\n",
    "# response.raise_for_status()\n",
    "# analysis = response.json()\n",
    "\n",
    "# image_description = analysis[\"description\"][\"captions\"][0][\"text\"]\n",
    "# image_dominantfgColor = analysis[\"color\"][\"dominantColorForeground\"]\n",
    "# image_dominantbgColor = analysis[\"color\"][\"dominantColorBackground\"]\n",
    "\n",
    "# print(image_description)\n",
    "# print(image_dominantfgColor)\n",
    "# print(image_dominantbgColor)\n",
    "\n",
    "# analysis"
   ]
  },
  {
   "cell_type": "code",
   "execution_count": 70,
   "metadata": {},
   "outputs": [
    {
     "name": "stdout",
     "output_type": "stream",
     "text": [
      "Error image_url: https://a0.muscache.com/im/pictures/aac2258d-f866-466b-92ac-4acbc5399391.jpg?aki_policy=large\n"
     ]
    }
   ],
   "source": [
    "image_desc = []\n",
    "image_fgColor = []\n",
    "image_bgColor = []\n",
    "\n",
    "for image_url in airbnb_df['picture_url']:\n",
    "    # Set image_url to the URL of an image that you want to analyze.    \n",
    "    data = {'url': image_url}\n",
    "    \n",
    "    response = requests.post(analyze_url, headers=headers, params=params, json=data)\n",
    "    response.raise_for_status()\n",
    "    analysis = response.json()\n",
    "    #print(json.dumps(response.json()))\n",
    "    \n",
    "    try:\n",
    "        image_desc.append(analysis[\"description\"][\"captions\"][0][\"text\"])\n",
    "        image_fgColor.append(analysis[\"color\"][\"dominantColorForeground\"])\n",
    "        image_bgColor.append(analysis[\"color\"][\"dominantColorBackground\"])\n",
    "    except:\n",
    "        print('Error image_url: ' +image_url)\n",
    "        continue"
   ]
  },
  {
   "cell_type": "code",
   "execution_count": 73,
   "metadata": {},
   "outputs": [
    {
     "data": {
      "text/plain": [
       "551"
      ]
     },
     "execution_count": 73,
     "metadata": {},
     "output_type": "execute_result"
    }
   ],
   "source": [
    "# image_desc.append('na')\n",
    "# image_fgColor.append('na')\n",
    "# image_bgColor.append('na')\n",
    "airbnb_df['image_description'] = image_desc\n",
    "airbnb_df['image_dominantfgColor'] = image_fgColor\n",
    "airbnb_df['image_dominantbgColor'] = image_bgColor\n",
    "airbnb_df.head(5)\n",
    "# len(image_desc)"
   ]
  },
  {
   "cell_type": "code",
   "execution_count": 67,
   "metadata": {},
   "outputs": [],
   "source": [
    "airbnb_df.to_csv ('airbnb_listing_imagereco.csv', index = None, header=True)"
   ]
  }
 ],
 "metadata": {
  "kernelspec": {
   "display_name": "Python 3.6",
   "language": "python",
   "name": "python3.6"
  },
  "language_info": {
   "codemirror_mode": {
    "name": "ipython",
    "version": 3
   },
   "file_extension": ".py",
   "mimetype": "text/x-python",
   "name": "python",
   "nbconvert_exporter": "python",
   "pygments_lexer": "ipython3",
   "version": "3.6.9"
  }
 },
 "nbformat": 4,
 "nbformat_minor": 2
}