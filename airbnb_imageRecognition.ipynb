{
 "cells": [
  {
   "attachments": {
    "image.png": {
     "image/png": "[encoded data removed]"
    }
   },
   "cell_type": "markdown",
   "metadata": {},
   "source": [
    "I will continue explaining the process I went through for analyzing airbnb data. This time I'm using TextBlob for sentiment analysis and Azure Cognitive Services for image recognition.\n",
    "\n",
    "## Image Recognition \n",
    "\n",
    "First, I started configuring an azure cognitive services API. From it I got a subscription key and an endpoint to connect. More can be found in [azure-doc](https://docs.microsoft.com/en-us/azure/cognitive-services/computer-vision/quickstarts/python-analyze).\n",
    "\n",
    "![image.png <](attachment:image.png)"
   ]
  },
  {
   "cell_type": "code",
   "execution_count": 5,
   "metadata": {
    "scrolled": true
   },
   "outputs": [],
   "source": [
    "import requests\n",
    "import pandas as pd\n",
    "import json\n",
    "\n",
    "\n",
    "#subscription key and endpoint\n",
    "subscription_key = ''\n",
    "endpoint = 'https://sdm-airbnb-images.cognitiveservices.azure.com/'\n",
    "analyze_url = endpoint + \"vision/v2.1/analyze\"\n",
    "\n",
    "headers = {'Ocp-Apim-Subscription-Key': subscription_key}\n",
    "params = {'visualFeatures': 'Categories,Description,Color'}"
   ]
  },
  {
   "cell_type": "code",
   "execution_count": null,
   "metadata": {},
   "outputs": [],
   "source": [
    "# This part of the code is just for testing and understanding \n",
    "# of the response from the Azure API.\n",
    "\n",
    "data = {'url': 'https://a0.muscache.com/im/pictures/67002727-38d2-4be7-aa2d-3beabc29df91.jpg?aki_policy=large'}\n",
    "\n",
    "response = requests.post(analyze_url, headers=headers, params=params, json=data)\n",
    "response.raise_for_status()\n",
    "analysis = response.json()\n",
    "\n",
    "image_description = analysis[\"description\"][\"captions\"][0][\"text\"]\n",
    "image_dominantfgColor = analysis[\"color\"][\"dominantColorForeground\"]\n",
    "image_dominantbgColor = analysis[\"color\"][\"dominantColorBackground\"]\n",
    "\n",
    "print(image_description)\n",
    "print(image_dominantfgColor)\n",
    "print(image_dominantbgColor)"
   ]
  },
  {
   "cell_type": "markdown",
   "metadata": {},
   "source": [
    "### Azure ComputerVisio API Response and storage\n",
    "Now that I have a better understanding of what I can find in each response from the API I can collect and append this data to my **airbnb_listing.csv** dataset.\n",
    "\n",
    "Azure Computer Vision can extract information from any image and retrieves, identifying colors, objects, words, faces and more!\n",
    "\n",
    "See [here](https://azure.microsoft.com/en-us/services/cognitive-services/computer-vision/#features) a few examples of how powerful this tool can be. In this case I'm using it for something very simple."
   ]
  },
  {
   "cell_type": "code",
   "execution_count": 70,
   "metadata": {},
   "outputs": [
    {
     "name": "stdout",
     "output_type": "stream",
     "text": [
      "Error image_url: https://a0.muscache.com/im/pictures/aac2258d-f866-466b-92ac-4acbc5399391.jpg?aki_policy=large\n"
     ]
    }
   ],
   "source": [
    "image_desc = []\n",
    "image_fgColor = []\n",
    "image_bgColor = []\n",
    "\n",
    "# Looping in airbnb_listing.csv \n",
    "\n",
    "for image_url in airbnb_df['picture_url']:\n",
    "    # Set image_url to the URL of an image that you want to analyze.    \n",
    "    data = {'url': image_url}\n",
    "    \n",
    "    response = requests.post(analyze_url, headers=headers, params=params, json=data)\n",
    "    response.raise_for_status()\n",
    "    analysis = response.json()\n",
    "    #print(json.dumps(response.json()))\n",
    "    \n",
    "    try:\n",
    "        image_desc.append(analysis[\"description\"][\"captions\"][0][\"text\"])\n",
    "        image_fgColor.append(analysis[\"color\"][\"dominantColorForeground\"])\n",
    "        image_bgColor.append(analysis[\"color\"][\"dominantColorBackground\"])\n",
    "    except:\n",
    "        print('Error image_url: ' +image_url)\n",
    "        continue"
   ]
  },
  {
   "cell_type": "code",
   "execution_count": 73,
   "metadata": {},
   "outputs": [
    {
     "data": {
      "text/plain": [
       "551"
      ]
     },
     "execution_count": 73,
     "metadata": {},
     "output_type": "execute_result"
    }
   ],
   "source": [
    "airbnb_df['image_description'] = image_desc\n",
    "airbnb_df['image_dominantfgColor'] = image_fgColor\n",
    "airbnb_df['image_dominantbgColor'] = image_bgColor\n",
    "airbnb_df.head(5)\n",
    "# len(image_desc)"
   ]
  },
  {
   "cell_type": "code",
   "execution_count": 67,
   "metadata": {},
   "outputs": [],
   "source": [
    "airbnb_df.to_csv ('airbnb_listing_imagereco.csv', index = None, header=True)"
   ]
  },
  {
   "cell_type": "markdown",
   "metadata": {},
   "source": [
    "At this point the image recognition process is now complete. It is time to proceed with the sentiment analysis part.\n",
    "\n",
    "With this we are all set to start the analysis! "
   ]
  }
 ],
 "metadata": {
  "kernelspec": {
   "display_name": "Python 3.6.9 64-bit ('jupyter_py3.6': venv)",
   "language": "python",
   "name": "python36964bitjupyterpy36venv7e7336c5157b4b88ae24da5b2197478f"
  },
  "language_info": {
   "codemirror_mode": {
    "name": "ipython",
    "version": 3
   },
   "file_extension": ".py",
   "mimetype": "text/x-python",
   "name": "python",
   "nbconvert_exporter": "python",
   "pygments_lexer": "ipython3",
   "version": "3.6.9"
  }
 },
 "nbformat": 4,
 "nbformat_minor": 2
}
