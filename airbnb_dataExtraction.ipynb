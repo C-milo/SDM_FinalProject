{
 "cells": [
  {
   "cell_type": "markdown",
   "metadata": {},
   "source": [
    "## Introduction\n",
    "Airbnb has thousands of places available for renting all over the world with lots of options and price ranges available for travelers. A regular airbnb listing will have a main picture, a title, and a price rate. Guests can also leave a review after their stay, so then others can read and get a better idea of what to expect from this place.\n",
    "\n",
    "So there is a variaty of data that can be collected, now the question would be; Is there a hidden data treasure worth millions somewhere in this data? Probably not, but it's worth to explore it for the sake of learning. (.. and for passing my college course)\n",
    "\n",
    "Without further ado, this project has the following:\n",
    "1. Data extraction: Airbnb non-official API. [airbnb01](posts/airbnb01/)\n",
    "2. Image recognition and Sentiment Analysis. [airbnb02](posts/airbnb02/)\n",
    "3. Data exploration and Dashboard design. [airbnb03](posts/airbnb03/)\n",
    "\n",
    "## Data Extraction\n",
    "First it is important to mention there is no official release of an API from Airbnb. However it is still possible to get JSON responses from the URL and this unofficial API has all that very well documented [here](https://stevesie.com/apps/airbnb-api).\n",
    "\n",
    "So using the \"unofficial airbnb API\" we can fetch the data and store it into a .csv file. One of the fields has the URL to access the main picture of each listing, that is what will later be used in our image recognition analysis. (Spoiler Alert: Using Azure cognitive services.)"
   ]
  },
  {
   "cell_type": "code",
   "execution_count": 1,
   "metadata": {},
   "outputs": [],
   "source": [
    "# unofficial Airbnb API: https://stevesie.com/apps/airbnb-api\n",
    "\n",
    "import airbnb\n",
    "import pandas as pd\n",
    "api = airbnb.Api(randomize=True)\n",
    "\n",
    "# Pagianation for the API calls\n",
    "page = 0\n",
    "\n",
    "# Initialize a dictionary and data frame to store listings details.\n",
    "place_dtl = {}\n",
    "columns = ['id','city','neighborhood','name','lat','lng','person_capacity','space_type','picture_url',\n",
    "          'price_rate']\n",
    "airbnb_df = pd.DataFrame(columns=columns)\n",
    "# Exploring data to build the schema for the dataframe\n",
    "# data = api.get_homes('Toronto, ON', items_per_grid=50, offset=500)\n",
    "# len(data['explore_tabs'][0]['sections'][0]['listings'])"
   ]
  },
  {
   "cell_type": "markdown",
   "metadata": {},
   "source": [
    "### Listing details extraction\n",
    "Nothing too fancy, just storing details in the dataframe and later exporting it to **airbnb_listing.csv**."
   ]
  },
  {
   "cell_type": "code",
   "execution_count": 56,
   "metadata": {
    "scrolled": true,
    "tags": []
   },
   "outputs": [
    {
     "name": "stdout",
     "output_type": "stream",
     "text": [
      "last id from page: 0 : 40204854\n",
      "last id from page: 50 : 25719877\n",
      "last id from page: 100 : 17682704\n",
      "last id from page: 150 : 29945949\n",
      "last id from page: 200 : 12836500\n",
      "last id from page: 250 : 34899472\n",
      "last id from page: 300 : 43948056\n"
     ]
    }
   ],
   "source": [
    "while page <= 300:\n",
    "    data = api.get_homes('Toronto, ON', items_per_grid=50, offset=page)\n",
    "    for h in data['explore_tabs'][0]['sections'][0]['listings']:\n",
    "        try:\n",
    "            place_dtl['id'] = h['listing']['id']\n",
    "            place_dtl['city'] = h['listing']['city']\n",
    "            place_dtl['neighborhood'] = h['listing']['neighborhood']\n",
    "            place_dtl['name'] = h['listing']['name']        \n",
    "            place_dtl['lat'] = h['listing']['lat']\n",
    "            place_dtl['lng'] = h['listing']['lng']\n",
    "            place_dtl['person_capacity'] = h['listing']['person_capacity']\n",
    "            place_dtl['space_type'] = h['listing']['space_type']\n",
    "            place_dtl['price_rate'] = h['pricing_quote']['rate']['amount']            \n",
    "            place_dtl['picture_url'] = h['listing']['picture_url']\n",
    "            airbnb_df.loc[len(airbnb_df)] = place_dtl\n",
    "        except:\n",
    "            continue\n",
    "    print(f\"last id from page: {page} : {place_dtl['id']}\")    \n",
    "    page += 50\n",
    "airbnb_df.to_csv ('airbnb_listing.csv', index = None, header=True)"
   ]
  },
  {
   "cell_type": "markdown",
   "metadata": {},
   "source": [
    "### Reviews details extraction\n",
    "A similar process but now for the reviews."
   ]
  },
  {
   "cell_type": "code",
   "execution_count": null,
   "metadata": {},
   "outputs": [],
   "source": [
    "comment_dtl = {}\n",
    "\n",
    "r_columns = ['listing_id','author','rating','comments']\n",
    "reviews_df = pd.DataFrame(columns=r_columns)\n",
    "\n",
    "# I will read the listing\n",
    "listing = pd.read_csv('airbnb_listing.csv')"
   ]
  },
  {
   "cell_type": "code",
   "execution_count": null,
   "metadata": {
    "tags": [
     "outputPrepend"
    ]
   },
   "outputs": [],
   "source": [
    "for i in listing['id']:\n",
    "    reviews = api.get_reviews(i, limit=10)\n",
    "    for r in reviews['reviews']:\n",
    "        comment_dtl['listing_id'] = i\n",
    "        comment_dtl['author'] = r['author']['smart_name']\n",
    "        comment_dtl['rating'] = r['rating']\n",
    "        comment_dtl['comments'] = r['comments']\n",
    "        reviews_df.loc[len(reviews_df)] = comment_dtl\n",
    "reviews_df.to_csv ('airbnb_reviews.csv', index=None, header=True) "
   ]
  },
  {
   "cell_type": "markdown",
   "metadata": {},
   "source": [
    "## The datasets\n",
    "Finally we will check what we got."
   ]
  },
  {
   "cell_type": "code",
   "execution_count": 4,
   "metadata": {},
   "outputs": [],
   "source": [
    "listing = pd.read_csv('airbnb_listing.csv')\n",
    "reviews = pd.read_csv('airbnb_reviews.csv')"
   ]
  },
  {
   "cell_type": "markdown",
   "metadata": {},
   "source": [
    "### Listing dataset: airbnb_listing.csv\n",
    "These are the first 3 rows for the listing dataset:"
   ]
  },
  {
   "cell_type": "code",
   "execution_count": 23,
   "metadata": {
    "scrolled": true
   },
   "outputs": [
    {
     "data": {
      "text/html": [
       "<div>\n",
       "<style scoped>\n",
       "    .dataframe tbody tr th:only-of-type {\n",
       "        vertical-align: middle;\n",
       "    }\n",
       "\n",
       "    .dataframe tbody tr th {\n",
       "        vertical-align: top;\n",
       "    }\n",
       "\n",
       "    .dataframe thead th {\n",
       "        text-align: right;\n",
       "    }\n",
       "</style>\n",
       "<table border=\"1\" class=\"dataframe\">\n",
       "  <thead>\n",
       "    <tr style=\"text-align: right;\">\n",
       "      <th></th>\n",
       "      <th>id</th>\n",
       "      <th>city</th>\n",
       "      <th>neighborhood</th>\n",
       "      <th>name</th>\n",
       "      <th>lat</th>\n",
       "      <th>lng</th>\n",
       "      <th>person_capacity</th>\n",
       "      <th>space_type</th>\n",
       "      <th>picture_url</th>\n",
       "    </tr>\n",
       "  </thead>\n",
       "  <tbody>\n",
       "    <tr>\n",
       "      <th>0</th>\n",
       "      <td>28103946</td>\n",
       "      <td>Toronto</td>\n",
       "      <td>Downtown Toronto</td>\n",
       "      <td>Chic, Modern condo downtown by Scotiabank Arena!</td>\n",
       "      <td>43.64327</td>\n",
       "      <td>-79.38115</td>\n",
       "      <td>4</td>\n",
       "      <td>Entire condominium</td>\n",
       "      <td>https://a0.muscache.com/im/pictures/36fa807f-2...</td>\n",
       "    </tr>\n",
       "    <tr>\n",
       "      <th>1</th>\n",
       "      <td>11533218</td>\n",
       "      <td>Toronto</td>\n",
       "      <td>Downtown Toronto</td>\n",
       "      <td>Luxurious Condo near CN Tower with FREE PARKING</td>\n",
       "      <td>43.64252</td>\n",
       "      <td>-79.39617</td>\n",
       "      <td>4</td>\n",
       "      <td>Entire condominium</td>\n",
       "      <td>https://a0.muscache.com/im/pictures/a22f9757-3...</td>\n",
       "    </tr>\n",
       "    <tr>\n",
       "      <th>2</th>\n",
       "      <td>12290314</td>\n",
       "      <td>Toronto</td>\n",
       "      <td>Downtown Toronto</td>\n",
       "      <td>Take in Panoramic City Views from a Sophistica...</td>\n",
       "      <td>43.65391</td>\n",
       "      <td>-79.38273</td>\n",
       "      <td>2</td>\n",
       "      <td>Entire condominium</td>\n",
       "      <td>https://a0.muscache.com/4ea/air/v2/pictures/f3...</td>\n",
       "    </tr>\n",
       "  </tbody>\n",
       "</table>\n",
       "</div>"
      ],
      "text/plain": [
       "         id     city      neighborhood  \\\n",
       "0  28103946  Toronto  Downtown Toronto   \n",
       "1  11533218  Toronto  Downtown Toronto   \n",
       "2  12290314  Toronto  Downtown Toronto   \n",
       "\n",
       "                                                name       lat       lng  \\\n",
       "0   Chic, Modern condo downtown by Scotiabank Arena!  43.64327 -79.38115   \n",
       "1    Luxurious Condo near CN Tower with FREE PARKING  43.64252 -79.39617   \n",
       "2  Take in Panoramic City Views from a Sophistica...  43.65391 -79.38273   \n",
       "\n",
       "   person_capacity          space_type  \\\n",
       "0                4  Entire condominium   \n",
       "1                4  Entire condominium   \n",
       "2                2  Entire condominium   \n",
       "\n",
       "                                         picture_url  \n",
       "0  https://a0.muscache.com/im/pictures/36fa807f-2...  \n",
       "1  https://a0.muscache.com/im/pictures/a22f9757-3...  \n",
       "2  https://a0.muscache.com/4ea/air/v2/pictures/f3...  "
      ]
     },
     "execution_count": 23,
     "metadata": {},
     "output_type": "execute_result"
    }
   ],
   "source": [
    "listing.iloc[:, 0:9].head(3)"
   ]
  },
  {
   "cell_type": "markdown",
   "metadata": {},
   "source": [
    "### Reviews dataset: airbnb_reviews.csv \n",
    "We have collected a maximum of 5 reviews per listing."
   ]
  },
  {
   "cell_type": "code",
   "execution_count": 21,
   "metadata": {},
   "outputs": [
    {
     "data": {
      "text/html": [
       "<div>\n",
       "<style scoped>\n",
       "    .dataframe tbody tr th:only-of-type {\n",
       "        vertical-align: middle;\n",
       "    }\n",
       "\n",
       "    .dataframe tbody tr th {\n",
       "        vertical-align: top;\n",
       "    }\n",
       "\n",
       "    .dataframe thead th {\n",
       "        text-align: right;\n",
       "    }\n",
       "</style>\n",
       "<table border=\"1\" class=\"dataframe\">\n",
       "  <thead>\n",
       "    <tr style=\"text-align: right;\">\n",
       "      <th></th>\n",
       "      <th>id</th>\n",
       "      <th>author</th>\n",
       "      <th>rating</th>\n",
       "      <th>comments</th>\n",
       "    </tr>\n",
       "  </thead>\n",
       "  <tbody>\n",
       "    <tr>\n",
       "      <th>1259</th>\n",
       "      <td>28103946</td>\n",
       "      <td>Tyler</td>\n",
       "      <td>5</td>\n",
       "      <td>This condo is an incredible location in downto...</td>\n",
       "    </tr>\n",
       "    <tr>\n",
       "      <th>1260</th>\n",
       "      <td>28103946</td>\n",
       "      <td>Emmanuel</td>\n",
       "      <td>5</td>\n",
       "      <td>Outstanding place and perfect location for one...</td>\n",
       "    </tr>\n",
       "    <tr>\n",
       "      <th>1261</th>\n",
       "      <td>28103946</td>\n",
       "      <td>Alicia</td>\n",
       "      <td>5</td>\n",
       "      <td>Great place at a great location!</td>\n",
       "    </tr>\n",
       "    <tr>\n",
       "      <th>1262</th>\n",
       "      <td>28103946</td>\n",
       "      <td>Miah</td>\n",
       "      <td>5</td>\n",
       "      <td>This place was in the heart of Toronto! So clo...</td>\n",
       "    </tr>\n",
       "    <tr>\n",
       "      <th>1263</th>\n",
       "      <td>28103946</td>\n",
       "      <td>Lalji</td>\n",
       "      <td>5</td>\n",
       "      <td>a greal location, easy check in and clean place</td>\n",
       "    </tr>\n",
       "  </tbody>\n",
       "</table>\n",
       "</div>"
      ],
      "text/plain": [
       "            id    author  rating  \\\n",
       "1259  28103946     Tyler       5   \n",
       "1260  28103946  Emmanuel       5   \n",
       "1261  28103946    Alicia       5   \n",
       "1262  28103946      Miah       5   \n",
       "1263  28103946     Lalji       5   \n",
       "\n",
       "                                               comments  \n",
       "1259  This condo is an incredible location in downto...  \n",
       "1260  Outstanding place and perfect location for one...  \n",
       "1261                   Great place at a great location!  \n",
       "1262  This place was in the heart of Toronto! So clo...  \n",
       "1263    a greal location, easy check in and clean place  "
      ]
     },
     "execution_count": 21,
     "metadata": {},
     "output_type": "execute_result"
    }
   ],
   "source": [
    "reviews.loc[reviews['id'] == 28103946]"
   ]
  }
 ],
 "metadata": {
  "kernelspec": {
   "display_name": "venv36",
   "language": "python",
   "name": "venv36"
  },
  "language_info": {
   "codemirror_mode": {
    "name": "ipython",
    "version": 3
   },
   "file_extension": ".py",
   "mimetype": "text/x-python",
   "name": "python",
   "nbconvert_exporter": "python",
   "pygments_lexer": "ipython3",
   "version": "3.6.9"
  }
 },
 "nbformat": 4,
 "nbformat_minor": 2
}
